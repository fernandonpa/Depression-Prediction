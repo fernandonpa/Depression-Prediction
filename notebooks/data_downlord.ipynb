{
 "cells": [
  {
   "cell_type": "markdown",
   "metadata": {},
   "source": [
    "# **Predicting Depression: Machine Learning Challenge**"
   ]
  },
  {
   "cell_type": "markdown",
   "metadata": {},
   "source": [
    "### **Data Downlord**\n"
   ]
  },
  {
   "cell_type": "markdown",
   "metadata": {},
   "source": [
    "The dataset for this competition (both train and test) was gathered through a broad survey designed to explore the various factors influencing depression risk in adults. Conducted anonymously from January to June 2023, the survey spanned multiple cities, including individuals from diverse professional and demographic backgrounds. Participants, aged between 18 and 60, willingly shared information on factors like age, gender, location, education, job satisfaction, study/work hours, and family medical history, among other aspects. No professional mental health evaluations or diagnostic tests were involved.\n",
    "\n",
    "The primary variable, 'Depression', indicates whether an individual is at risk of depression, with 'Yes' or 'No' responses based on lifestyle and demographic inputs. The dataset is intended to help identify how everyday factors could be linked to mental health risks, making it a valuable resource for developing machine learning models focused on predicting mental health outcomes.\n",
    "\n",
    "***Files***\n",
    "- `train.csv` - the training dataset; Depression column is the binary target (either 0 or 1)\n",
    "- `test.csv` - the test dataset; your objective is to predict target Depression for each row\n",
    "- `sample_submission.csv` - a sample submission file in the correct format"
   ]
  },
  {
   "cell_type": "code",
   "execution_count": 1,
   "metadata": {},
   "outputs": [],
   "source": [
    "import numpy as np\n",
    "import pandas as pd\n",
    "import json"
   ]
  },
  {
   "cell_type": "code",
   "execution_count": 2,
   "metadata": {},
   "outputs": [],
   "source": [
    "with open('../data/kaggle/kaggle.json') as f:\n",
    "    data = json.load(f)"
   ]
  },
  {
   "cell_type": "code",
   "execution_count": 3,
   "metadata": {},
   "outputs": [],
   "source": [
    "import os\n",
    "os.environ['KAGGLE_USERNAME'] = data['username']\n",
    "os.environ['KAGGLE_KEY'] = data['key']\n",
    "\n",
    "from kaggle.api.kaggle_api_extended import KaggleApi\n",
    "\n",
    "api = KaggleApi()\n",
    "api.authenticate()"
   ]
  },
  {
   "cell_type": "markdown",
   "metadata": {},
   "source": [
    "### **Depression Prediction Dataset Downlord**"
   ]
  },
  {
   "cell_type": "code",
   "execution_count": 4,
   "metadata": {},
   "outputs": [],
   "source": [
    "api.competition_download_files('predicting-depression-machine-learning-challenge', path='../data/kaggle')"
   ]
  },
  {
   "cell_type": "markdown",
   "metadata": {},
   "source": [
    "### **Extrct the Dataset**"
   ]
  },
  {
   "cell_type": "code",
   "execution_count": 5,
   "metadata": {},
   "outputs": [],
   "source": [
    "import zipfile\n",
    "\n",
    "with zipfile.ZipFile(\"../data/kaggle/predicting-depression-machine-learning-challenge.zip\", 'r') as zip_ref:\n",
    "    zip_ref.extractall(\"../data/extracted_data\")"
   ]
  }
 ],
 "metadata": {
  "kernelspec": {
   "display_name": "env",
   "language": "python",
   "name": "python3"
  },
  "language_info": {
   "codemirror_mode": {
    "name": "ipython",
    "version": 3
   },
   "file_extension": ".py",
   "mimetype": "text/x-python",
   "name": "python",
   "nbconvert_exporter": "python",
   "pygments_lexer": "ipython3",
   "version": "3.11.3"
  }
 },
 "nbformat": 4,
 "nbformat_minor": 2
}
