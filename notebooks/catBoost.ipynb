{
 "cells": [
  {
   "cell_type": "markdown",
   "metadata": {},
   "source": [
    "# **Predicting Depression: Machine Learning Challenge**\n",
    "\n",
    "\n",
    "CatBoost is a powerful gradient boosting algorithm designed for handling categorical data efficiently. Unlike traditional gradient boosting methods, CatBoost automatically handles categorical features by using innovative techniques like ordered boosting and target-based encoding, which reduce overfitting and improve model performance. It is particularly effective for datasets with a mix of numerical and categorical features, as it eliminates the need for extensive preprocessing like one-hot encoding. CatBoost also supports GPU acceleration, making it faster and more scalable for large datasets. With built-in support for missing value handling and robust hyperparameter tuning, CatBoost is widely used in competitions and real-world applications for its accuracy, speed, and ease of use.\n",
    "\n",
    "*Let's import relevent modules*"
   ]
  },
  {
   "cell_type": "code",
   "execution_count": 1,
   "metadata": {},
   "outputs": [],
   "source": [
    "import pandas as pd\n",
    "import numpy as np\n",
    "from catboost import Pool, CatBoostClassifier\n",
    "from sklearn.model_selection import StratifiedKFold\n",
    "from sklearn.metrics import accuracy_score, f1_score, roc_auc_score\n",
    "import optuna\n",
    "from optuna.samplers import TPESampler\n",
    "import shap\n",
    "\n",
    "import warnings\n",
    "warnings.filterwarnings(\"ignore\")"
   ]
  },
  {
   "cell_type": "markdown",
   "metadata": {},
   "source": [
    "### **Load the Dataset**"
   ]
  },
  {
   "cell_type": "code",
   "execution_count": 2,
   "metadata": {},
   "outputs": [],
   "source": [
    "# Load data\n",
    "df = pd.read_csv('../data/extracted_data/train.csv', index_col='id')\n",
    "\n",
    "genDf = pd.read_csv('../data/extracted_data/createdData.csv')\n",
    "\n",
    "genDf['Depression'] = genDf['Depression'].map({\n",
    "    'No': 0,\n",
    "    'Yes': 1\n",
    "})\n",
    "\n",
    "train = pd.concat([df, genDf], ignore_index=True)\n",
    "\n",
    "# Load test data\n",
    "test = pd.read_csv('../data/extracted_data/test.csv')\n",
    "\n",
    "# Fill missing values\n",
    "test = test.fillna('None').astype(str)"
   ]
  },
  {
   "cell_type": "markdown",
   "metadata": {},
   "source": [
    "### **Model for Working Proffetional**"
   ]
  },
  {
   "cell_type": "code",
   "execution_count": 3,
   "metadata": {},
   "outputs": [],
   "source": [
    "train_workingprofessional = train[train['Working Professional or Student'] != 'Student']  \n",
    "train_workingprofessional = train_workingprofessional.fillna('None').astype(str)\n",
    "test_workingprofessional = test[test['Working Professional or Student'] != 'Student'].copy()\n",
    "\n",
    "# Define the target variable\n",
    "y = train_workingprofessional['Depression']\n",
    "X = train_workingprofessional.drop(['Depression'], axis=1)\n",
    "\n"
   ]
  },
  {
   "cell_type": "code",
   "execution_count": 4,
   "metadata": {},
   "outputs": [],
   "source": [
    "X.reset_index(drop=True, inplace=True)\n",
    "y.reset_index(drop=True, inplace=True)"
   ]
  },
  {
   "cell_type": "code",
   "execution_count": 5,
   "metadata": {},
   "outputs": [
    {
     "name": "stdout",
     "output_type": "stream",
     "text": [
      "0:\ttest: 0.9467281\tbest: 0.9467281 (0)\ttotal: 460ms\tremaining: 7m 39s\n",
      "500:\ttest: 0.9721970\tbest: 0.9722054 (497)\ttotal: 1m 58s\tremaining: 1m 58s\n",
      "Stopped by overfitting detector  (200 iterations wait)\n",
      "\n",
      "bestTest = 0.9722053508\n",
      "bestIteration = 497\n",
      "\n",
      "Shrink model to first 498 iterations.\n",
      "0:\ttest: 0.9516507\tbest: 0.9516507 (0)\ttotal: 305ms\tremaining: 5m 4s\n",
      "500:\ttest: 0.9712759\tbest: 0.9712950 (493)\ttotal: 2m 56s\tremaining: 2m 55s\n",
      "999:\ttest: 0.9717552\tbest: 0.9717708 (951)\ttotal: 6m 6s\tremaining: 0us\n",
      "\n",
      "bestTest = 0.9717707596\n",
      "bestIteration = 951\n",
      "\n",
      "Shrink model to first 952 iterations.\n",
      "0:\ttest: 0.9514719\tbest: 0.9514719 (0)\ttotal: 352ms\tremaining: 5m 51s\n",
      "500:\ttest: 0.9699581\tbest: 0.9699671 (495)\ttotal: 3m 15s\tremaining: 3m 14s\n",
      "999:\ttest: 0.9703600\tbest: 0.9704381 (944)\ttotal: 6m 30s\tremaining: 0us\n",
      "\n",
      "bestTest = 0.9704381387\n",
      "bestIteration = 944\n",
      "\n",
      "Shrink model to first 945 iterations.\n",
      "workingprofessional:0.9622;\n"
     ]
    }
   ],
   "source": [
    "catboost_params1 = {\n",
    "        'loss_function': 'Logloss',\n",
    "        'eval_metric': 'AUC',\n",
    "        'learning_rate': 0.08114394459649094,\n",
    "        'iterations': 1000,\n",
    "        'depth': 6,\n",
    "        'random_strength':0,\n",
    "        'l2_leaf_reg': 0.7047064221215757,\n",
    "        'min_data_in_leaf' : 2,\n",
    "        'task_type':'CPU',\n",
    "        'random_seed':42,\n",
    "        'verbose':False \n",
    "    }\n",
    "\n",
    "cv = StratifiedKFold(3, shuffle=True, random_state=0)\n",
    "cv_splits = cv.split(X, y)\n",
    "scores1 = []\n",
    "test_preds1 = []\n",
    "X_test_pool = Pool(test_workingprofessional, cat_features=X.columns.values)\n",
    "for i, (train_idx, val_idx) in enumerate(cv_splits):\n",
    "    model = CatBoostClassifier(**catboost_params1)\n",
    "    X_train_fold, X_val_fold = X.loc[train_idx], X.loc[val_idx]\n",
    "    y_train_fold, y_val_fold = y.loc[train_idx], y.loc[val_idx]\n",
    "    X_train_pool = Pool(X_train_fold, y_train_fold, cat_features=X.columns.values)\n",
    "    X_valid_pool = Pool(X_val_fold, y_val_fold, cat_features=X.columns.values)\n",
    "    model.fit(X=X_train_pool, eval_set=X_valid_pool, verbose=500, early_stopping_rounds=200)\n",
    "    val_pred = model.predict(X_valid_pool)\n",
    "    score = accuracy_score(y_val_fold, val_pred)\n",
    "    scores1.append(score)\n",
    "    test_pred1 = model.predict_proba(X_test_pool)[:, 1]\n",
    "    test_preds1.append(test_pred1)\n",
    "    #print(f'Fold {i + 1} accuracy_score: {score}')\n",
    "print(f'workingprofessional:{np.mean(scores1):.4f};')\n"
   ]
  },
  {
   "cell_type": "code",
   "execution_count": 6,
   "metadata": {},
   "outputs": [],
   "source": [
    "# Save the trained CatBoost model in the fastest format\n",
    "model.save_model(\"../models/catboost_model_wf.cbm\", format=\"cbm\")"
   ]
  },
  {
   "cell_type": "markdown",
   "metadata": {},
   "source": [
    "### **Model for Student**"
   ]
  },
  {
   "cell_type": "code",
   "execution_count": 7,
   "metadata": {},
   "outputs": [],
   "source": [
    "train_student = train[(train['Working Professional or Student'] == 'Student')  ] \n",
    "train_student = train_student.fillna('None').astype(str) \n",
    "test_student = test[test['Working Professional or Student'] == 'Student'].copy()\n",
    "\n",
    "y = train_student['Depression']\n",
    "X = train_student.drop(['Depression'], axis=1)\n",
    "\n",
    "X.reset_index(drop=True, inplace=True)\n",
    "y.reset_index(drop=True, inplace=True)"
   ]
  },
  {
   "cell_type": "code",
   "execution_count": 8,
   "metadata": {},
   "outputs": [
    {
     "name": "stdout",
     "output_type": "stream",
     "text": [
      "0:\ttest: 0.8976608\tbest: 0.8976608 (0)\ttotal: 105ms\tremaining: 1m 44s\n",
      "Stopped by overfitting detector  (200 iterations wait)\n",
      "\n",
      "bestTest = 0.9226903992\n",
      "bestIteration = 290\n",
      "\n",
      "Shrink model to first 291 iterations.\n",
      "Fold 1 accuracy_score: 0.8537177862272919\n",
      "0:\ttest: 0.8999773\tbest: 0.8999773 (0)\ttotal: 225ms\tremaining: 3m 44s\n",
      "500:\ttest: 0.9242224\tbest: 0.9244949 (323)\ttotal: 1m 53s\tremaining: 1m 52s\n",
      "Stopped by overfitting detector  (200 iterations wait)\n",
      "\n",
      "bestTest = 0.9244948661\n",
      "bestIteration = 323\n",
      "\n",
      "Shrink model to first 324 iterations.\n",
      "Fold 2 accuracy_score: 0.854034643008027\n",
      "0:\ttest: 0.8939818\tbest: 0.8939818 (0)\ttotal: 261ms\tremaining: 4m 20s\n",
      "Stopped by overfitting detector  (200 iterations wait)\n",
      "\n",
      "bestTest = 0.9211415482\n",
      "bestIteration = 213\n",
      "\n",
      "Shrink model to first 214 iterations.\n",
      "Fold 3 accuracy_score: 0.8433505862469631\n",
      "student:0.8504;\n"
     ]
    }
   ],
   "source": [
    "catboost_params2 = {\n",
    "        'loss_function': 'Logloss',\n",
    "        'eval_metric': 'AUC',\n",
    "        'learning_rate': 0.08114394459649094,\n",
    "        'iterations': 1000,\n",
    "        'depth': 6,\n",
    "        'random_strength':0,\n",
    "        'l2_leaf_reg': 0.7047064221215757,\n",
    "        'min_data_in_leaf' : 2,\n",
    "        'task_type':'CPU',\n",
    "        'random_seed':42,\n",
    "        'verbose':False \n",
    "    }\n",
    "\n",
    "cv = StratifiedKFold(3, shuffle=True, random_state=0)\n",
    "cv_splits = cv.split(X, y)\n",
    "scores2 = []\n",
    "test_preds2 = []\n",
    "X_test_pool = Pool(test_student, cat_features=X.columns.values)\n",
    "for i, (train_idx, val_idx) in enumerate(cv_splits):\n",
    "    model = CatBoostClassifier(**catboost_params2)\n",
    "    X_train_fold, X_val_fold = X.loc[train_idx], X.loc[val_idx]\n",
    "    y_train_fold, y_val_fold = y.loc[train_idx], y.loc[val_idx]\n",
    "    X_train_pool = Pool(X_train_fold, y_train_fold, cat_features=X.columns.values)\n",
    "    X_valid_pool = Pool(X_val_fold, y_val_fold, cat_features=X.columns.values)\n",
    "    model.fit(X=X_train_pool, eval_set=X_valid_pool, verbose=500, early_stopping_rounds=200)\n",
    "    val_pred = model.predict(X_valid_pool)\n",
    "    score = accuracy_score(y_val_fold, val_pred)\n",
    "    scores2.append(score)\n",
    "    test_pred2 = model.predict_proba(X_test_pool)[:, 1]\n",
    "    test_preds2.append(test_pred2)\n",
    "    print(f'Fold {i + 1} accuracy_score: {score}')\n",
    "print(f'student:{np.mean(scores2):.4f};')"
   ]
  },
  {
   "cell_type": "code",
   "execution_count": 9,
   "metadata": {},
   "outputs": [],
   "source": [
    "# Save the trained CatBoost model in the fastest format\n",
    "model.save_model(\"../models/catboost_model_s.cbm\", format=\"cbm\")"
   ]
  },
  {
   "cell_type": "markdown",
   "metadata": {},
   "source": [
    "### **Hyper Parameter Tuning**"
   ]
  },
  {
   "cell_type": "code",
   "execution_count": null,
   "metadata": {},
   "outputs": [],
   "source": [
    "\n",
    "# Define the objective function for Optuna\n",
    "def objective(trial):\n",
    "    catboost_params = {\n",
    "        'loss_function': 'Logloss',\n",
    "        'eval_metric': 'AUC',\n",
    "        'learning_rate': trial.suggest_float('learning_rate', 0.05, 0.15, log=True),\n",
    "        'iterations': trial.suggest_int('iterations', 500, 2000, step=500),\n",
    "        'depth': trial.suggest_int('depth', 3, 10),\n",
    "        'random_strength': trial.suggest_int('random_strength', 0, 5),\n",
    "        'l2_leaf_reg': trial.suggest_float('l2_leaf_reg', 0.1, 10, log=True),\n",
    "        'min_data_in_leaf': trial.suggest_int('min_data_in_leaf', 1, 10),\n",
    "        'random_seed': 42,\n",
    "        'verbose': False,\n",
    "        'task_type': 'GPU'\n",
    "    }\n",
    "\n",
    "    cv = StratifiedKFold(3, shuffle=True, random_state=0)\n",
    "    cv_splits = cv.split(X, y)\n",
    "    \n",
    "    scores = []\n",
    "    for train_idx, val_idx in cv_splits:\n",
    "        model = CatBoostClassifier(**catboost_params)\n",
    "        X_train_fold, X_val_fold = X.loc[train_idx], X.loc[val_idx]\n",
    "        y_train_fold, y_val_fold = y.loc[train_idx], y.loc[val_idx]\n",
    "        X_train_pool = Pool(X_train_fold, y_train_fold, cat_features=X.columns.values)\n",
    "        X_valid_pool = Pool(X_val_fold, y_val_fold, cat_features=X.columns.values)\n",
    "\n",
    "        model.fit(X=X_train_pool, eval_set=X_valid_pool, verbose=0, early_stopping_rounds=100)\n",
    "        val_pred = model.predict_proba(X_valid_pool)[:, 1]\n",
    "        score = roc_auc_score(y_val_fold, val_pred)  # Use AUC as optimization metric\n",
    "        scores.append(score)\n",
    "\n",
    "    return np.mean(scores)  # Return mean AUC\n",
    "\n",
    "# Run Optuna study\n",
    "study = optuna.create_study(direction='maximize')\n",
    "study.optimize(objective, n_trials=20)  # Run 20 trials \n",
    "\n",
    "# Print best hyperparameters\n",
    "print(\"Best hyperparameters:\", study.best_params)\n",
    "print(\"Best AUC score:\", study.best_value)\n"
   ]
  },
  {
   "cell_type": "markdown",
   "metadata": {},
   "source": [
    "### **Submition**"
   ]
  },
  {
   "cell_type": "code",
   "execution_count": null,
   "metadata": {},
   "outputs": [],
   "source": [
    "# submission\n",
    "test_workingprofessional = test_workingprofessional.reset_index()\n",
    "test_student = test_student.reset_index()\n",
    "\n",
    "preds_workingprofessional = np.round(np.mean(test_preds1, axis=0))\n",
    "preds_student = np.round(np.mean(test_preds2, axis=0))\n",
    "\n",
    "submission_workingprofessional = pd.DataFrame({'id': test_workingprofessional['id'], 'Depression': preds_workingprofessional})\n",
    "submission_student = pd.DataFrame({'id': test_student['id'], 'Depression': preds_student})\n",
    "\n",
    "submission = pd.concat([submission_student, submission_workingprofessional], axis=0)\n",
    "submission = submission.sort_values(by='id', ascending=True)\n",
    "submission.to_csv('../predictions/catboost.csv', index=False)"
   ]
  }
 ],
 "metadata": {
  "kernelspec": {
   "display_name": "env",
   "language": "python",
   "name": "python3"
  },
  "language_info": {
   "codemirror_mode": {
    "name": "ipython",
    "version": 3
   },
   "file_extension": ".py",
   "mimetype": "text/x-python",
   "name": "python",
   "nbconvert_exporter": "python",
   "pygments_lexer": "ipython3",
   "version": "3.11.3"
  }
 },
 "nbformat": 4,
 "nbformat_minor": 2
}
